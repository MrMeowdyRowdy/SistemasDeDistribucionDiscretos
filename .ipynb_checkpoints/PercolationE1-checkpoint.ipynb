{
 "cells": [
  {
   "cell_type": "markdown",
   "id": "bc3ac7d0-5428-4f43-85bd-8b2f85eba780",
   "metadata": {},
   "source": [
    "# Percolación Ejercicio 1\n",
    "***\n",
    "## Grupo:\n",
    "1. Adrián Bedón\n",
    "1. Merlo José Miguel\n",
    "1. Moreta Andrés\n",
    "1. Ocaña Dennis\n",
    "1. Ramos Xavier\n",
    "***"
   ]
  },
  {
   "cell_type": "markdown",
   "id": "1a412a8e-5c1e-4200-b3cc-cd6075b66a09",
   "metadata": {},
   "source": [
    "## Qué es la percolación?\n",
    "Percolación hace referencia al paso de fluidos a travez de materiales porosos. Un ejemplo de percolación es la filtracion<br>\n",
    "<br>\n",
    "<div>\n",
    "<img src=\"https://cdn0.ecologiaverde.com/es/posts/3/2/1/como_hacer_un_filtro_de_agua_casero_para_beber_1123_orig.jpg\" width=\"500\"/>\n",
    "</div>\n",
    "\n",
    "***"
   ]
  },
  {
   "cell_type": "markdown",
   "id": "624875cf-eefc-4e74-bcf9-d69735f8caf8",
   "metadata": {},
   "source": [
    "## Simulación de Montecarlo para estudiar un fenómeno natural conocido como percolación\n",
    "\n",
    "Para el proposito de estas simulaciones se definirá un sistema de `n * n` a modo de cuaadrícula. Dentro de esta cada cuadrante puede estar bloqueado o disponible y los cuadrantes disponibles son inicializados _vacíos_. Un sitio _lleno_ es un sitio disponible que se conecta a un sitio aledaño que también está _diponible_ siendo estos: arriba, abajo, izquierda y/o derecha).<br>\n",
    "<br>\n",
    "El sistema se dirá que percola si es que hay un sitio disponible _completo_ esto significando que esta conectado de un extremo a otro de la cuadrícula.<br>\n",
    "<br>\n",
    "<div>\n",
    "<img src=\"https://introcs.cs.princeton.edu/python/24percolation/images/percolates-yes.png\" width=\"300\"/>\n",
    "<img src=\"https://introcs.cs.princeton.edu/python/24percolation/images/percolates-no.png\" width=\"300\"/>\n",
    "</div>\n",
    "\n",
    "***"
   ]
  },
  {
   "cell_type": "markdown",
   "id": "0db956db-f9e2-43b9-a18a-eb954688f8d7",
   "metadata": {},
   "source": [
    "## Percolación vertical\n",
    "Dada una matriz que representa los sitios disponibles, debemos determinar si este sistema percola. Empezando com percolación vertical siendo este el más simple ya que solo buscará percolación directamente en el prano vertical\n",
    "<br>\n",
    "<br>\n",
    "<div>\n",
    "<img src=\"https://introcs.cs.princeton.edu/python/24percolation/images/percolates-vertically-yes.png\" width=\"300\"/>\n",
    "<img src=\"https://introcs.cs.princeton.edu/python/24percolation/images/percolates-vertically-no.png\" width=\"300\"/>\n",
    "</div>\n",
    "\n",
    "***"
   ]
  },
  {
   "cell_type": "code",
   "execution_count": 21,
   "id": "f21bc1e8-a2fb-4ef2-8f3b-44aaa2b9d2b8",
   "metadata": {},
   "outputs": [],
   "source": [
    "import numpy as np"
   ]
  },
  {
   "cell_type": "code",
   "execution_count": 135,
   "id": "52be8b34-c867-41eb-98e2-8f0f024b7515",
   "metadata": {},
   "outputs": [],
   "source": [
    "## flow es un metodo que llena el sistema dependiendo de la probabilidad\n",
    "## \n",
    "def flow(array, probabilidadDisponible):\n",
    "    print(probabilidadDisponible)\n",
    "    n = len(array)\n",
    "    for j in range(n):\n",
    "        for i in range(n):\n",
    "            if(array[j][i] < probabilidadDisponible):\n",
    "                array[j][i] = 1\n",
    "            else:\n",
    "                array[j][i] = 0\n",
    "    return array"
   ]
  },
  {
   "cell_type": "code",
   "execution_count": 8,
   "id": "308a9f7d-871c-4014-8364-1a2e6beb368e",
   "metadata": {},
   "outputs": [],
   "source": [
    "## Funcion que retorna verdadero si el sistema percola y falso si no lo hace\n",
    "def percolates(isOpen):\n",
    "    \n",
    "    ## Llena la matriz\n",
    "    isFull = flow(isOpen)\n",
    "    \n",
    "    ## Verifica si alguno de los lugares de la final de abajo esta lleno\n",
    "    ## y si lo esta significa que percola\n",
    "    n = len(isFull)\n",
    "    for j in range(n):\n",
    "        if isFull[n-1][j]:\n",
    "            return True\n",
    "    return False"
   ]
  },
  {
   "cell_type": "code",
   "execution_count": 143,
   "id": "f62a326d-4e27-49c6-9ec5-406b2a1082da",
   "metadata": {},
   "outputs": [],
   "source": [
    "def armarArray(n, m):\n",
    "    array = np.random.randint(0,10,[n,m])\n",
    "    return array"
   ]
  },
  {
   "cell_type": "code",
   "execution_count": 145,
   "id": "8970aed6-fc1d-4215-b395-70c8539b895c",
   "metadata": {},
   "outputs": [],
   "source": [
    "## lee de una matriz booleana que representa los sitios disponibles de un sistema\n",
    "## Imprime la matriz y verdadero o falso dependiendo si percola o no\n",
    "def main(n, m, probabilidadDisponible):\n",
    "    array = armarArray(n,m)\n",
    "    print(array)\n",
    "    arrayLleno = flow(array, probabilidadDisponible)\n",
    "    print(arrayLleno)"
   ]
  },
  {
   "cell_type": "code",
   "execution_count": 158,
   "id": "b2f8eb6f-4ee6-4dff-9cfc-4c4d02b0ce5b",
   "metadata": {},
   "outputs": [
    {
     "name": "stdout",
     "output_type": "stream",
     "text": [
      "[[2 5 4]\n",
      " [0 9 5]\n",
      " [0 7 1]]\n",
      "3\n",
      "[[1 0 0]\n",
      " [1 0 0]\n",
      " [1 0 1]]\n"
     ]
    }
   ],
   "source": [
    "## Ejecuta el metodo main que toma las dimensiones n y m de la matriz \n",
    "## y un numero entero en la escala de 1 - 10 el cual representara la \n",
    "## probabilidad en funcion de Num/10\n",
    "main(3, 3, 3)"
   ]
  },
  {
   "cell_type": "code",
   "execution_count": 126,
   "id": "e756e953-5f06-4474-b0a7-1d4f72e99061",
   "metadata": {},
   "outputs": [],
   "source": [
    "import numpy as np"
   ]
  },
  {
   "cell_type": "code",
   "execution_count": null,
   "id": "5a3245bc-1ff0-47f3-a635-7abce13d8dc1",
   "metadata": {},
   "outputs": [],
   "source": []
  },
  {
   "cell_type": "code",
   "execution_count": null,
   "id": "77067c0d-d4f3-4c7e-9739-dc6801d37be5",
   "metadata": {},
   "outputs": [],
   "source": []
  }
 ],
 "metadata": {
  "kernelspec": {
   "display_name": "Python 3 (ipykernel)",
   "language": "python",
   "name": "python3"
  },
  "language_info": {
   "codemirror_mode": {
    "name": "ipython",
    "version": 3
   },
   "file_extension": ".py",
   "mimetype": "text/x-python",
   "name": "python",
   "nbconvert_exporter": "python",
   "pygments_lexer": "ipython3",
   "version": "3.9.16"
  }
 },
 "nbformat": 4,
 "nbformat_minor": 5
}
