{
 "cells": [
  {
   "cell_type": "markdown",
   "id": "bc3ac7d0-5428-4f43-85bd-8b2f85eba780",
   "metadata": {},
   "source": [
    "# Percolación Ejercicio 1\n",
    "***\n",
    "## Grupo:\n",
    "1. Adrián Bedón\n",
    "1. Merlo José Miguel\n",
    "1. Moreta Andrés\n",
    "1. Ocaña Dennis\n",
    "1. Ramos Xavier\n",
    "***"
   ]
  },
  {
   "cell_type": "markdown",
   "id": "1a412a8e-5c1e-4200-b3cc-cd6075b66a09",
   "metadata": {},
   "source": [
    "## Qué es la percolación?\n",
    "Percolación hace referencia al paso de fluidos a travez de materiales porosos. Un ejemplo de percolación es la filtracion<br>\n",
    "<br>\n",
    "<div>\n",
    "<img src=\"https://cdn0.ecologiaverde.com/es/posts/3/2/1/como_hacer_un_filtro_de_agua_casero_para_beber_1123_orig.jpg\" width=\"500\"/>\n",
    "</div>\n",
    "\n",
    "***"
   ]
  },
  {
   "cell_type": "markdown",
   "id": "624875cf-eefc-4e74-bcf9-d69735f8caf8",
   "metadata": {},
   "source": [
    "## Simulación de Montecarlo para estudiar un fenómeno natural conocido como percolación\n",
    "\n",
    "Para el proposito de estas simulaciones se definirá un sistema de `n * n` a modo de cuaadrícula. Dentro de esta cada cuadrante puede estar bloqueado o disponible y los cuadrantes disponibles son inicializados _vacíos_. Un sitio _lleno_ es un sitio disponible que se conecta a un sitio aledaño que también está _diponible_ siendo estos: arriba, abajo, izquierda y/o derecha).<br>\n",
    "<br>\n",
    "El sistema se dirá que percola si es que hay un sitio disponible _completo_ esto significando que esta conectado de un extremo a otro de la cuadrícula.<br>\n",
    "<br>\n",
    "<div>\n",
    "<img src=\"https://introcs.cs.princeton.edu/python/24percolation/images/percolates-yes.png\" width=\"300\"/>\n",
    "<img src=\"https://introcs.cs.princeton.edu/python/24percolation/images/percolates-no.png\" width=\"300\"/>\n",
    "    \n",
    "</div>\n",
    "\n",
    "***"
   ]
  },
  {
   "cell_type": "markdown",
   "id": "0db956db-f9e2-43b9-a18a-eb954688f8d7",
   "metadata": {},
   "source": [
    "## Percolación vertical\n",
    "Dada una matriz que representa los sitios disponibles, debemos determinar si este sistema percola. Empezando com percolación vertical siendo este el más simple ya que solo buscará percolación directamente en el prano vertical\n",
    "<br>\n",
    "<br>\n",
    "<div>\n",
    "<img src=\"https://introcs.cs.princeton.edu/python/24percolation/images/percolates-vertically-yes.png\" width=\"300\"/>\n",
    "<img src=\"https://introcs.cs.princeton.edu/python/24percolation/images/percolates-vertically-no.png\" width=\"300\"/>\n",
    "</div>\n",
    "\n",
    "***"
   ]
  },
  {
   "cell_type": "code",
   "execution_count": 1,
   "id": "fe5db315-4bda-4ba4-98fd-397aa47ac229",
   "metadata": {},
   "outputs": [],
   "source": [
    "## Importamos librerias necesarias\n",
    "#import numpy as np\n",
    "import numpy as np #importamos numpy para utilizar linspace\n",
    "import numba as nb #se importa numba para aceleracion por GPU en diversas funciones\n",
    "from numba import cuda #para aceleracion por GPU en diversas funciones\n",
    "from numba import jit #para aceleracion por GPU en diversas funciones\n",
    "from numba import njit #para aceleracion por GPU en diversas funciones"
   ]
  },
  {
   "cell_type": "code",
   "execution_count": 2,
   "id": "f21bc1e8-a2fb-4ef2-8f3b-44aaa2b9d2b8",
   "metadata": {},
   "outputs": [],
   "source": [
    "## Arma un array segun las probabilidades que se indique para las celdas disponibles\n",
    "@jit\n",
    "def armarArray(n, probabilidadDisponible):\n",
    "    array = np.random.binomial(1, probabilidadDisponible, size=(n,n))\n",
    "    return array"
   ]
  },
  {
   "cell_type": "code",
   "execution_count": 3,
   "id": "27060b20-6257-4a03-b318-c5ebae44bdf6",
   "metadata": {},
   "outputs": [],
   "source": [
    "@jit\n",
    "def flowVertical(array):\n",
    "    n = len(array)\n",
    "    ArrayCamino = np.zeros((n,n),dtype=int)\n",
    "    for j in range(n):\n",
    "        _flowVertical(array, ArrayCamino, 0, j)\n",
    "    return ArrayCamino"
   ]
  },
  {
   "cell_type": "code",
   "execution_count": 4,
   "id": "315f606f-cf74-4fba-a641-8203aaaca1f1",
   "metadata": {},
   "outputs": [],
   "source": [
    "## Arma un funcion recursiva para armar un array aparte que solo tendra los registros de las\n",
    "## celdas disponibles que esten conectadas entre si\n",
    "@jit\n",
    "def _flowVertical(isOpen, isFull, i, j):\n",
    "    n = len(isFull)\n",
    "    if (i < 0) or (i >= n):\n",
    "        return\n",
    "    if (j < 0) or (j >= n):\n",
    "        return\n",
    "    if (isOpen[i][j] == 0):\n",
    "        return\n",
    "    if (isFull[i][j] == 1):\n",
    "        return\n",
    "    isFull[i][j] = 1\n",
    "    _flowVertical(isOpen, isFull, i+1, j)  ## Abajo"
   ]
  },
  {
   "cell_type": "code",
   "execution_count": 5,
   "id": "82f5a4e5-d040-411f-aa90-e55cae5d7e3a",
   "metadata": {},
   "outputs": [],
   "source": [
    "## Ejecuta los segmentos recursivos del codigo y detecta si hay un 1 en la fila final\n",
    "## ya que al haberlo, significa que si percola\n",
    "@jit\n",
    "def percolaVertical(isOpen):\n",
    "    \n",
    "    ## crea la matriz de 1 que estan juntos\n",
    "    isFull = flowVertical(isOpen)\n",
    "    \n",
    "    \n",
    "    ## verifica si hay algun 1 en la fila final ya que si es asi, el sistema si percola\n",
    "    n = len(isFull)\n",
    "    for j in range(n):\n",
    "        if (isFull[n-1][j]):\n",
    "            return True\n",
    "    return False\n"
   ]
  },
  {
   "cell_type": "code",
   "execution_count": 29,
   "id": "537493c4-e54e-4db2-a5ee-ee780641ced8",
   "metadata": {},
   "outputs": [
    {
     "name": "stdout",
     "output_type": "stream",
     "text": [
      "[[1 1]\n",
      " [1 1]]\n",
      "True\n",
      "[[0 0 0]\n",
      " [0 0 1]\n",
      " [0 0 0]]\n",
      "False\n",
      "[[1 0 0 1]\n",
      " [0 0 1 0]\n",
      " [0 0 0 0]\n",
      " [1 0 1 1]]\n",
      "False\n"
     ]
    }
   ],
   "source": [
    "## definimos una funcion que tomara n siendo esta la dimension de la matriz\n",
    "## y p siendo la probabilidad de que la celda este disponible\n",
    "## esta version incluye un print por propositos de demostración\n",
    "\n",
    "def mainVerticalPrint(n,p):\n",
    "    array = armarArray(n,p)\n",
    "    print(array)\n",
    "    print(percolaVertical(array))\n",
    "\n",
    "## Ejemplo con un 2x2\n",
    "mainVerticalPrint(2,0.5)\n",
    "\n",
    "## Ejemplo con un 3x3\n",
    "mainVerticalPrint(3,0.5)\n",
    "\n",
    "## Ejemplo con un 4x4\n",
    "mainVerticalPrint(4,0.5)"
   ]
  },
  {
   "cell_type": "markdown",
   "id": "f733960a-861f-4172-ac18-4fecfbd066bc",
   "metadata": {},
   "source": [
    "***"
   ]
  },
  {
   "cell_type": "markdown",
   "id": "f2de14d9-6335-4e54-845d-4db8b96a6ee0",
   "metadata": {},
   "source": [
    "### Ejemplos para percolacion vertical con 𝑝∈{0.1,0.5,0.9}. "
   ]
  },
  {
   "cell_type": "code",
   "execution_count": 7,
   "id": "620856fd-ee90-43bf-8e43-52b8d8e44ce7",
   "metadata": {},
   "outputs": [],
   "source": [
    "## definimos una funcion que tomara n siendo esta la dimension de la matriz\n",
    "## y p siendo la probabilidad de que la celda este disponible\n",
    "\n",
    "def mainVertical(n,p):\n",
    "    array = armarArray(n,p)\n",
    "    return percolaVertical(array)"
   ]
  },
  {
   "cell_type": "code",
   "execution_count": 8,
   "id": "4be57ab0-c5ea-4b03-abdc-cf87a371c98b",
   "metadata": {},
   "outputs": [
    {
     "name": "stdout",
     "output_type": "stream",
     "text": [
      "Percoló 198623 veces\n",
      "Esto resulta en una probabilidad de 0.0198623\n",
      "Comparado con la probabilidad por fórmula la cual es 0.019900000000000004\n",
      "Para este ejemplo existió un error de: -0.0018944723618093005\n"
     ]
    }
   ],
   "source": [
    "## para 0.1\n",
    "j=10000000\n",
    "contador=0\n",
    "p=0.1\n",
    "n=2\n",
    "for i in range (j):\n",
    "    if mainVertical(n,p):\n",
    "        contador=contador+1\n",
    "        \n",
    "PAnalitica1=(p**n*(n-p**n))\n",
    "PExperim1=(contador/j)\n",
    "e1=(((PExperim1)-PAnalitica1)/(PAnalitica1))\n",
    "print(\"Percoló\", contador, \"veces\")\n",
    "print(\"Esto resulta en una probabilidad de\", PExperim1)\n",
    "print(\"Comparado con la probabilidad por fórmula la cual es\", PAnalitica1)\n",
    "print(\"Para este ejemplo existió un error de:\" , e1)"
   ]
  },
  {
   "cell_type": "code",
   "execution_count": 9,
   "id": "6bfe1601-42de-45e6-b40d-a1c1508f7a7f",
   "metadata": {},
   "outputs": [
    {
     "name": "stdout",
     "output_type": "stream",
     "text": [
      "Percoló 4374311 veces\n",
      "Esto resulta en una probabilidad de 0.4374311\n",
      "Comparado con la probabilidad por fórmula la cual es 0.4375\n",
      "Para este ejemplo existió un error de: -0.0001574857142856751\n"
     ]
    }
   ],
   "source": [
    "## para 0.5\n",
    "\n",
    "j=10000000\n",
    "contador=0\n",
    "p=0.5\n",
    "n=2\n",
    "for i in range (j):\n",
    "    if mainVertical(n,p):\n",
    "        contador=contador+1\n",
    "        \n",
    "PAnalitica2=(p**n*(n-p**n))\n",
    "PExperim2=(contador/j)\n",
    "e5=(((PExperim2)-PAnalitica2)/(PAnalitica2))\n",
    "print(\"Percoló\", contador, \"veces\")\n",
    "print(\"Esto resulta en una probabilidad de\", PExperim2)\n",
    "print(\"Comparado con la probabilidad por fórmula la cual es\", PAnalitica2)\n",
    "print(\"Para este ejemplo existió un error de:\" , e5)"
   ]
  },
  {
   "cell_type": "code",
   "execution_count": 10,
   "id": "ae0843a0-2141-4211-a65a-a90a4342e43e",
   "metadata": {},
   "outputs": [
    {
     "name": "stdout",
     "output_type": "stream",
     "text": [
      "Percoló 9638581 veces\n",
      "Esto resulta en una probabilidad de 0.9638581\n",
      "Comparado con la probabilidad por fórmula la cual es 0.9639\n",
      "Para este ejemplo existió un error de: -4.346923954759633e-05\n"
     ]
    }
   ],
   "source": [
    "## para 0.9\n",
    "\n",
    "j=10000000\n",
    "contador=0\n",
    "p=0.9\n",
    "n=2\n",
    "for i in range (j):\n",
    "    if mainVertical(n,p):\n",
    "        contador=contador+1\n",
    "        \n",
    "PAnalitica3=(p**n*(n-p**n))\n",
    "PExperim3=(contador/j)\n",
    "e9=(((PExperim3)-PAnalitica3)/(PAnalitica3))\n",
    "print(\"Percoló\", contador, \"veces\")\n",
    "print(\"Esto resulta en una probabilidad de\", PExperim3)\n",
    "print(\"Comparado con la probabilidad por fórmula la cual es\", PAnalitica3)\n",
    "print(\"Para este ejemplo existió un error de:\" , e9)"
   ]
  },
  {
   "cell_type": "markdown",
   "id": "1c11f843-77c0-47af-b1f3-2ce1816f21e5",
   "metadata": {},
   "source": [
    "Viendo la similitud de los valores, se puede decir que la fórmula de probabilidad de percolación es correcta para el sistema de 2x2. Si bien difieren los resultados experimentales de los resultados analíticos, estos son los suficientemente cercanos con un error promedio entre las 3 ejecuciones de:"
   ]
  },
  {
   "cell_type": "code",
   "execution_count": 32,
   "id": "4121650a-826a-46cd-b828-57d963a0a1f8",
   "metadata": {},
   "outputs": [
    {
     "name": "stdout",
     "output_type": "stream",
     "text": [
      "-0.00010612866886572012\n"
     ]
    },
    {
     "data": {
      "image/png": "[encoded data removed]",
      "text/plain": [
       "<Figure size 640x480 with 1 Axes>"
      ]
     },
     "metadata": {},
     "output_type": "display_data"
    }
   ],
   "source": [
    "ErrorP=(e1+e5+e9)\n",
    "print((ErrorP/3))\n",
    "## pA siendo la probabilidad Analitica y pE la probabilidad calculada por simulación\n",
    "import matplotlib.pyplot as plt\n",
    "pA=[PAnalitica1,PAnalitica2,PAnalitica3]\n",
    "pE=[PExperim1,PExperim2,PExperim3]\n",
    "p=[0.1,0.5,0.9]\n",
    "plt.plot(p,pA,'.',linestyle='dotted')\n",
    "plt.plot(p,pE,'.',linestyle='dotted')\n",
    "\n",
    "plt.show()"
   ]
  },
  {
   "cell_type": "markdown",
   "id": "8522572d-ba52-45b3-985b-5c61ec301a79",
   "metadata": {},
   "source": [
    "Y con esto se puede concluir que la formula _(p**2*(2-p**2))_ funciona para el cálculo de la probabilidad de percolación para una cuadricula de 2x2"
   ]
  },
  {
   "cell_type": "markdown",
   "id": "49d32346-c41a-4656-bf8d-b3519d888787",
   "metadata": {},
   "source": [
    "***"
   ]
  },
  {
   "cell_type": "markdown",
   "id": "af4b754d-5176-40e4-97bc-63b9346f2adb",
   "metadata": {},
   "source": [
    "## Percolación regular\n",
    "\n",
    "Dada una matriz que representa los sitios disponibles, debemos determinar si este sistema percola. En los siguientes ejemplos se considera izquierda y derecha para el fluir de la percolación a pesar de que en una matriz de 2x2 solo existe la percolación de manera vertical.\n",
    "\n",
    "<img src=\"https://introcs.cs.princeton.edu/python/24percolation/images/Perc20.png\" width=\"500\"/>\n"
   ]
  },
  {
   "cell_type": "code",
   "execution_count": 12,
   "id": "e90f00c9-8838-4e58-ba8f-f93e69e08962",
   "metadata": {},
   "outputs": [],
   "source": [
    "## Arma un funcion recursiva para armar un array aparte que solo tendra los registros de las\n",
    "## celdas disponibles que esten conectadas entre si\n",
    "@jit\n",
    "def _flow(isOpen, isFull, i, j):\n",
    "    n = len(isFull)\n",
    "    if (i < 0) or (i >= n):\n",
    "        return\n",
    "    if (j < 0) or (j >= n):\n",
    "        return\n",
    "    if (isOpen[i][j] == 0):\n",
    "        return\n",
    "    if (isFull[i][j] == 1):\n",
    "        return\n",
    "    isFull[i][j] = 1\n",
    "    _flow(isOpen, isFull, i+1, j  )  ## Abajo\n",
    "    _flow(isOpen, isFull, i  , j+1)  ## Derecha\n",
    "    _flow(isOpen, isFull, i  , j-1)  ## Izquierda\n",
    "    _flow(isOpen, isFull, i-1, j  )  ## Arriba"
   ]
  },
  {
   "cell_type": "code",
   "execution_count": 13,
   "id": "16e7899f-663e-478f-8974-2e231fbc69bd",
   "metadata": {},
   "outputs": [],
   "source": [
    "## Crea un array nuevo en el cual se guardaran las celdas disponibles que esten conectadas\n",
    "## a las demas y las detecta\n",
    "@jit\n",
    "def flow(isOpen):\n",
    "    n = len(isOpen)\n",
    "    isFull = np.zeros((n,n),dtype=int)\n",
    "    for j in range(n):\n",
    "        _flow(isOpen, isFull, 0, j)\n",
    "    return isFull"
   ]
  },
  {
   "cell_type": "code",
   "execution_count": 14,
   "id": "b125062d-6f38-4459-bd07-737cce1740e2",
   "metadata": {},
   "outputs": [],
   "source": [
    "## Ejecuta los segmentos recursivos del codigo y detecta si hay un 1 en la fila final\n",
    "## ya que al haberlo, significa que si percola\n",
    "@jit\n",
    "def percola(isOpen):\n",
    "    \n",
    "    ## crea la matriz de 1 que estan juntos\n",
    "    isFull = flow(isOpen)\n",
    "    \n",
    "    \n",
    "    ## verifica si hay algun 1 en la fila final ya que si es asi, el sistema si percola\n",
    "    n = len(isFull)\n",
    "    for j in range(n):\n",
    "        if (isFull[n-1][j]):\n",
    "            return True\n",
    "    return False\n"
   ]
  },
  {
   "cell_type": "code",
   "execution_count": 15,
   "id": "d5850d36-b581-4fc1-a519-f7e54b7858c6",
   "metadata": {},
   "outputs": [],
   "source": [
    "## Arma un funcion recursiva para armar un array aparte que solo tendra los registros de las\n",
    "## celdas disponibles que esten conectadas entre si\n",
    "@jit\n",
    "def _flow(isOpen, isFull, i, j):\n",
    "    n = len(isFull)\n",
    "    if (i < 0) or (i >= n):\n",
    "        return\n",
    "    if (j < 0) or (j >= n):\n",
    "        return\n",
    "    if (isOpen[i][j] == 0):\n",
    "        return\n",
    "    if (isFull[i][j] == 1):\n",
    "        return\n",
    "    isFull[i][j] = 1\n",
    "    _flow(isOpen, isFull, i+1, j  )  ## Abajo\n",
    "    _flow(isOpen, isFull, i  , j+1)  ## Derecha\n",
    "    _flow(isOpen, isFull, i  , j-1)  ## Izquierda\n",
    "    _flow(isOpen, isFull, i-1, j  )  ## Arriba"
   ]
  },
  {
   "cell_type": "code",
   "execution_count": 16,
   "id": "8970aed6-fc1d-4215-b395-70c8539b895c",
   "metadata": {},
   "outputs": [],
   "source": [
    "## definimos una funcion que tomara n siendo esta la dimension de la matriz\n",
    "## y p siendo la probabilidad de que la celda este disponible\n",
    "## esta version incluye un print por propositos de demostración\n",
    "def mainP(n, probabilidadDisponible):\n",
    "    array = armarArray(n, probabilidadDisponible)\n",
    "    print(array)\n",
    "    print(percola(array))"
   ]
  },
  {
   "cell_type": "code",
   "execution_count": 31,
   "id": "b2f8eb6f-4ee6-4dff-9cfc-4c4d02b0ce5b",
   "metadata": {},
   "outputs": [
    {
     "name": "stdout",
     "output_type": "stream",
     "text": [
      "[[1 1]\n",
      " [0 1]]\n",
      "True\n",
      "[[1 1 0]\n",
      " [0 1 1]\n",
      " [0 0 0]]\n",
      "False\n",
      "[[0 0 0 1]\n",
      " [1 1 0 0]\n",
      " [1 1 1 0]\n",
      " [1 0 1 0]]\n",
      "False\n"
     ]
    }
   ],
   "source": [
    "## Ejecuta el metodo main que toma las dimensiones n*n de la matriz \n",
    "## y un numero float entre 0 y 1 el cual representara la \n",
    "## probabilidad de asumir 1 o disponible\n",
    "## Ejemplo con un 2x2\n",
    "mainP(2, 0.5)\n",
    "## Ejemplo con un 3x3\n",
    "mainP(3, 0.5)\n",
    "## Ejemplo con un 4x4\n",
    "mainP(4, 0.5)"
   ]
  },
  {
   "cell_type": "markdown",
   "id": "3298f442-229b-4878-ae5f-caf9ab53bc02",
   "metadata": {},
   "source": [
    "### Pruebas para percolacion regular con 𝑝∈{0.1,0.2,0.3,0.4,0.5,0.6,0.7,0.8,0.9}. \n",
    "\n",
    "Se realiza pruebas con un segundo algoritmo que es capaz de detectar percolacion horizontal y vertical, a pesar de que en un sistema de percolación de 2x2 solo existe percolación de tipo vertical"
   ]
  },
  {
   "cell_type": "code",
   "execution_count": 18,
   "id": "5738df0e-c005-483a-a88c-e7003b470d81",
   "metadata": {},
   "outputs": [],
   "source": [
    "## definimos una funcion que tomara n siendo esta la dimension de la matriz\n",
    "## y p siendo la probabilidad de que la celda este disponible\n",
    "def main(n, probabilidadDisponible):\n",
    "    array = armarArray(n, probabilidadDisponible)\n",
    "    return (percola(array))"
   ]
  },
  {
   "cell_type": "code",
   "execution_count": 19,
   "id": "5a3245bc-1ff0-47f3-a635-7abce13d8dc1",
   "metadata": {},
   "outputs": [
    {
     "name": "stdout",
     "output_type": "stream",
     "text": [
      "Percoló 199051 veces\n",
      "Esto resulta en una probabilidad de 0.0199051\n",
      "Comparado con la probabilidad por fórmula la cual es 0.019900000000000004\n",
      "Para este ejemplo existió un error de: 0.0002562814070348742\n"
     ]
    }
   ],
   "source": [
    "## para 0.1 y un sistema 2x2 \n",
    "j=10000000\n",
    "contador=0\n",
    "p=0.1\n",
    "n=2\n",
    "for i in range (j):\n",
    "    if main(n,p):\n",
    "        contador=contador+1\n",
    "        \n",
    "PAnalitica1=(p**n*(n-p**n))\n",
    "PExperim1=(contador/j)\n",
    "e1=(((PExperim1)-PAnalitica1)/(PAnalitica1))\n",
    "print(\"Percoló\", contador, \"veces\")\n",
    "print(\"Esto resulta en una probabilidad de\", PExperim1)\n",
    "print(\"Comparado con la probabilidad por fórmula la cual es\", PAnalitica1)\n",
    "print(\"Para este ejemplo existió un error de:\" , e1)"
   ]
  },
  {
   "cell_type": "code",
   "execution_count": 20,
   "id": "c36c9085-7725-49cc-8243-72391bb42d50",
   "metadata": {},
   "outputs": [
    {
     "name": "stdout",
     "output_type": "stream",
     "text": [
      "Percoló 783672 veces\n",
      "Esto resulta en una probabilidad de 0.0783672\n",
      "Comparado con la probabilidad por fórmula la cual es 0.07840000000000001\n",
      "Para este ejemplo existió un error de: -0.00041836734693894605\n"
     ]
    }
   ],
   "source": [
    "## para 0.2 y un sistema 2x2 \n",
    "j=10000000\n",
    "contador=0\n",
    "p=0.2\n",
    "n=2\n",
    "for i in range (j):\n",
    "    if main(n,p):\n",
    "        contador=contador+1\n",
    "        \n",
    "PAnalitica2=(p**n*(n-p**n))\n",
    "PExperim2=(contador/j)\n",
    "e2=(((PExperim2)-PAnalitica2)/(PAnalitica2))\n",
    "print(\"Percoló\", contador, \"veces\")\n",
    "print(\"Esto resulta en una probabilidad de\", PExperim2)\n",
    "print(\"Comparado con la probabilidad por fórmula la cual es\", PAnalitica2)\n",
    "print(\"Para este ejemplo existió un error de:\" , e2)"
   ]
  },
  {
   "cell_type": "code",
   "execution_count": 21,
   "id": "e6673c38-6321-46c1-810c-0a7af8b91a6d",
   "metadata": {},
   "outputs": [
    {
     "name": "stdout",
     "output_type": "stream",
     "text": [
      "Percoló 1716102 veces\n",
      "Esto resulta en una probabilidad de 0.1716102\n",
      "Comparado con la probabilidad por fórmula la cual es 0.1719\n",
      "Para este ejemplo existió un error de: -0.0016858638743455889\n"
     ]
    }
   ],
   "source": [
    "## para 0.3 y un sistema 2x2 \n",
    "j=10000000\n",
    "contador=0\n",
    "p=0.3\n",
    "n=2\n",
    "for i in range (j):\n",
    "    if main(n,p):\n",
    "        contador=contador+1\n",
    "        \n",
    "PAnalitica3=(p**n*(n-p**n))\n",
    "PExperim3=(contador/j)\n",
    "e3=(((PExperim3)-PAnalitica3)/(PAnalitica3))\n",
    "print(\"Percoló\", contador, \"veces\")\n",
    "print(\"Esto resulta en una probabilidad de\", PExperim3)\n",
    "print(\"Comparado con la probabilidad por fórmula la cual es\", PAnalitica3)\n",
    "print(\"Para este ejemplo existió un error de:\" , e3)"
   ]
  },
  {
   "cell_type": "code",
   "execution_count": 22,
   "id": "eb5563e1-660a-45fa-b9b2-850ed90abde4",
   "metadata": {},
   "outputs": [
    {
     "name": "stdout",
     "output_type": "stream",
     "text": [
      "Percoló 2943928 veces\n",
      "Esto resulta en una probabilidad de 0.2943928\n",
      "Comparado con la probabilidad por fórmula la cual es 0.29440000000000005\n",
      "Para este ejemplo existió un error de: -2.4456521739268025e-05\n"
     ]
    }
   ],
   "source": [
    "## para 0.4 y un sistema 2x2 \n",
    "j=10000000\n",
    "contador=0\n",
    "p=0.4\n",
    "n=2\n",
    "for i in range (j):\n",
    "    if main(n,p):\n",
    "        contador=contador+1\n",
    "        \n",
    "PAnalitica4=(p**n*(n-p**n))\n",
    "PExperim4=(contador/j)\n",
    "e4=(((PExperim4)-PAnalitica4)/(PAnalitica4))\n",
    "print(\"Percoló\", contador, \"veces\")\n",
    "print(\"Esto resulta en una probabilidad de\", PExperim4)\n",
    "print(\"Comparado con la probabilidad por fórmula la cual es\", PAnalitica4)\n",
    "print(\"Para este ejemplo existió un error de:\" , e4)"
   ]
  },
  {
   "cell_type": "code",
   "execution_count": 23,
   "id": "f62405eb-cd1e-4485-b76f-308356087b9e",
   "metadata": {},
   "outputs": [
    {
     "name": "stdout",
     "output_type": "stream",
     "text": [
      "Percoló 4372494 veces\n",
      "Esto resulta en una probabilidad de 0.4372494\n",
      "Comparado con la probabilidad por fórmula la cual es 0.4375\n",
      "Para este ejemplo existió un error de: -0.0005727999999999765\n"
     ]
    }
   ],
   "source": [
    "## para 0.5 y un sistema 2x2 \n",
    "j=10000000\n",
    "contador=0\n",
    "p=0.5\n",
    "n=2\n",
    "for i in range (j):\n",
    "    if main(n,p):\n",
    "        contador=contador+1\n",
    "        \n",
    "PAnalitica5=(p**n*(n-p**n))\n",
    "PExperim5=(contador/j)\n",
    "e5=(((PExperim5)-PAnalitica5)/(PAnalitica5))\n",
    "print(\"Percoló\", contador, \"veces\")\n",
    "print(\"Esto resulta en una probabilidad de\", PExperim5)\n",
    "print(\"Comparado con la probabilidad por fórmula la cual es\", PAnalitica5)\n",
    "print(\"Para este ejemplo existió un error de:\" , e5)"
   ]
  },
  {
   "cell_type": "code",
   "execution_count": 24,
   "id": "c8f2b24e-e510-4fba-a15e-fa381415831c",
   "metadata": {},
   "outputs": [
    {
     "name": "stdout",
     "output_type": "stream",
     "text": [
      "Percoló 5905816 veces\n",
      "Esto resulta en una probabilidad de 0.5905816\n",
      "Comparado con la probabilidad por fórmula la cual es 0.5904\n",
      "Para este ejemplo existió un error de: 0.0003075880758807655\n"
     ]
    }
   ],
   "source": [
    "## para 0.6 y un sistema 2x2 \n",
    "j=10000000\n",
    "contador=0\n",
    "p=0.6\n",
    "n=2\n",
    "for i in range (j):\n",
    "    if main(n,p):\n",
    "        contador=contador+1\n",
    "        \n",
    "PAnalitica6=(p**n*(n-p**n))\n",
    "PExperim6=(contador/j)\n",
    "e6=(((PExperim6)-PAnalitica6)/(PAnalitica6))\n",
    "print(\"Percoló\", contador, \"veces\")\n",
    "print(\"Esto resulta en una probabilidad de\", PExperim6)\n",
    "print(\"Comparado con la probabilidad por fórmula la cual es\", PAnalitica6)\n",
    "print(\"Para este ejemplo existió un error de:\" , e6)"
   ]
  },
  {
   "cell_type": "code",
   "execution_count": 25,
   "id": "4c687be4-5d66-4d3f-80f3-d887f8bebf0d",
   "metadata": {},
   "outputs": [
    {
     "name": "stdout",
     "output_type": "stream",
     "text": [
      "Percoló 7399752 veces\n",
      "Esto resulta en una probabilidad de 0.7399752\n",
      "Comparado con la probabilidad por fórmula la cual es 0.7398999999999999\n",
      "Para este ejemplo existió un error de: 0.00010163535612942835\n"
     ]
    }
   ],
   "source": [
    "## para 0.7 y un sistema 2x2 \n",
    "j=10000000\n",
    "contador=0\n",
    "p=0.7\n",
    "n=2\n",
    "for i in range (j):\n",
    "    if main(n,p):\n",
    "        contador=contador+1\n",
    "        \n",
    "PAnalitica7=(p**n*(n-p**n))\n",
    "PExperim7=(contador/j)\n",
    "e7=(((PExperim7)-PAnalitica7)/(PAnalitica7))\n",
    "print(\"Percoló\", contador, \"veces\")\n",
    "print(\"Esto resulta en una probabilidad de\", PExperim7)\n",
    "print(\"Comparado con la probabilidad por fórmula la cual es\", PAnalitica7)\n",
    "print(\"Para este ejemplo existió un error de:\" , e7)"
   ]
  },
  {
   "cell_type": "code",
   "execution_count": 26,
   "id": "3801a3cd-77ac-4df8-baec-3467e16253f9",
   "metadata": {},
   "outputs": [
    {
     "name": "stdout",
     "output_type": "stream",
     "text": [
      "Percoló 8704584 veces\n",
      "Esto resulta en una probabilidad de 0.8704584\n",
      "Comparado con la probabilidad por fórmula la cual es 0.8704000000000001\n",
      "Para este ejemplo existió un error de: 6.709558823518264e-05\n"
     ]
    }
   ],
   "source": [
    "## para 0.8 y un sistema 2x2 \n",
    "j=10000000\n",
    "contador=0\n",
    "p=0.8\n",
    "n=2\n",
    "for i in range (j):\n",
    "    if main(n,p):\n",
    "        contador=contador+1\n",
    "        \n",
    "PAnalitica8=(p**n*(n-p**n))\n",
    "PExperim8=(contador/j)\n",
    "e8=(((PExperim8)-PAnalitica8)/(PAnalitica8))\n",
    "print(\"Percoló\", contador, \"veces\")\n",
    "print(\"Esto resulta en una probabilidad de\", PExperim8)\n",
    "print(\"Comparado con la probabilidad por fórmula la cual es\", PAnalitica8)\n",
    "print(\"Para este ejemplo existió un error de:\" , e8)"
   ]
  },
  {
   "cell_type": "code",
   "execution_count": 27,
   "id": "696b13cf-93b6-4e16-8dc3-8a84a6470125",
   "metadata": {},
   "outputs": [
    {
     "name": "stdout",
     "output_type": "stream",
     "text": [
      "Percoló 9638982 veces\n",
      "Esto resulta en una probabilidad de 0.9638982\n",
      "Comparado con la probabilidad por fórmula la cual es 0.9639\n",
      "Para este ejemplo existió un error de: -1.867413632058033e-06\n"
     ]
    }
   ],
   "source": [
    "## para 0.9 y un sistema 2x2 \n",
    "j=10000000\n",
    "contador=0\n",
    "p=0.9\n",
    "n=2\n",
    "for i in range (j):\n",
    "    if main(n,p):\n",
    "        contador=contador+1\n",
    "        \n",
    "PAnalitica9=(p**n*(n-p**n))\n",
    "PExperim9=(contador/j)\n",
    "e9=(((PExperim9)-PAnalitica9)/(PAnalitica9))\n",
    "print(\"Percoló\", contador, \"veces\")\n",
    "print(\"Esto resulta en una probabilidad de\", PExperim9)\n",
    "print(\"Comparado con la probabilidad por fórmula la cual es\", PAnalitica9)\n",
    "print(\"Para este ejemplo existió un error de:\" , e9)"
   ]
  },
  {
   "cell_type": "markdown",
   "id": "05486561-36fd-48d3-8bda-2d0127c2d45c",
   "metadata": {},
   "source": [
    "Viendo la similitud de los valores, se puede decir que la fórmula de probabilidad de percolación es correcta para el sistema de 2x2. Si bien difieren los resultados experimentales de los resultados analíticos, estos son los suficientemente cercanos con un error promedio entre las ejecuciones de los 10 valores probados de:\n",
    "\n",
    "Se incluye un grafico para observar de mejor manera la variación en cada uno de los puntos para esta ejecución"
   ]
  },
  {
   "cell_type": "code",
   "execution_count": 30,
   "id": "50b37307-3ee0-40fe-adb7-f5e720014d66",
   "metadata": {},
   "outputs": [
    {
     "name": "stdout",
     "output_type": "stream",
     "text": [
      "-0.00021897274770839854\n"
     ]
    },
    {
     "data": {
      "image/png": "[encoded data removed]",
      "text/plain": [
       "<Figure size 640x480 with 1 Axes>"
      ]
     },
     "metadata": {},
     "output_type": "display_data"
    }
   ],
   "source": [
    "ErrorP=(e1+e2+e3+e4+e5+e6+e7+e8+e9)## Se suman todos los errores para realizar el calculo del promedio\n",
    "print((ErrorP/9))\n",
    "## pA siendo la probabilidad Analitica y pE la probabilidad calculada por simulación\n",
    "import matplotlib.pyplot as plt\n",
    "pA=[PAnalitica1,PAnalitica2,PAnalitica3,PAnalitica4,PAnalitica5,PAnalitica6,PAnalitica7,PAnalitica8,PAnalitica9]\n",
    "pE=[PExperim1,PExperim2,PExperim3,PExperim4,PExperim5,PExperim6,PExperim7,PExperim8,PExperim9]\n",
    "p=[0.1,0.2,0.3,0.4,0.5,0.6,0.7,0.8,0.9]\n",
    "plt.plot(p,pA,'.',linestyle='dotted')\n",
    "plt.plot(p,pE,'.',linestyle='dotted')\n",
    "\n",
    "plt.show()"
   ]
  },
  {
   "cell_type": "markdown",
   "id": "1422d00e-eb3c-4c70-b222-d388d1903f16",
   "metadata": {},
   "source": [
    "---\n",
    "## Conclusiones\n",
    "Después de realizar las simulaciones para obtener un resultado experimental y calcular la probabilidad de manera analítica, se determina que la fórmula para la solución analítica del problema es correcta para una matriz de percolación de 2x2\n",
    "\n",
    "---\n",
    "## Bibliografía\n",
    "https://introcs.cs.princeton.edu/python/24percolation/</br>\n",
    "https://definicion.de/percolacion/"
   ]
  }
 ],
 "metadata": {
  "kernelspec": {
   "display_name": "Python 3 (ipykernel)",
   "language": "python",
   "name": "python3"
  },
  "language_info": {
   "codemirror_mode": {
    "name": "ipython",
    "version": 3
   },
   "file_extension": ".py",
   "mimetype": "text/x-python",
   "name": "python",
   "nbconvert_exporter": "python",
   "pygments_lexer": "ipython3",
   "version": "3.9.16"
  }
 },
 "nbformat": 4,
 "nbformat_minor": 5
}
