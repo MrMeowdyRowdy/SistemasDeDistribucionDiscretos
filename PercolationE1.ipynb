{
 "cells": [
  {
   "cell_type": "markdown",
   "id": "bc3ac7d0-5428-4f43-85bd-8b2f85eba780",
   "metadata": {},
   "source": [
    "# Percolación Ejercicio 1\n",
    "***\n",
    "## Grupo:\n",
    "1. Adrián Bedón\n",
    "1. Merlo José Miguel\n",
    "1. Moreta Andrés\n",
    "1. Ocaña Dennis\n",
    "1. Ramos Xavier\n",
    "***"
   ]
  },
  {
   "cell_type": "markdown",
   "id": "1a412a8e-5c1e-4200-b3cc-cd6075b66a09",
   "metadata": {},
   "source": [
    "## Qué es la percolación?\n",
    "Percolación hace referencia al paso de fluidos a travez de materiales porosos. Un ejemplo de percolación es la filtracion<br>\n",
    "<br>\n",
    "<div>\n",
    "<img src=\"https://cdn0.ecologiaverde.com/es/posts/3/2/1/como_hacer_un_filtro_de_agua_casero_para_beber_1123_orig.jpg\" width=\"500\"/>\n",
    "</div>\n",
    "\n",
    "***"
   ]
  },
  {
   "cell_type": "markdown",
   "id": "624875cf-eefc-4e74-bcf9-d69735f8caf8",
   "metadata": {},
   "source": [
    "## Simulación de Montecarlo para estudiar un fenómeno natural conocido como percolación\n",
    "\n",
    "Para el proposito de estas simulaciones se definirá un sistema de `n * n` a modo de cuaadrícula. Dentro de esta cada cuadrante puede estar bloqueado o disponible y los cuadrantes disponibles son inicializados _vacíos_. Un sitio _lleno_ es un sitio disponible que se conecta a un sitio aledaño que también está _diponible_ siendo estos: arriba, abajo, izquierda y/o derecha).<br>\n",
    "<br>\n",
    "El sistema se dirá que percola si es que hay un sitio disponible _completo_ esto significando que esta conectado de un extremo a otro de la cuadrícula.<br>\n",
    "<br>\n",
    "<div>\n",
    "<img src=\"https://introcs.cs.princeton.edu/python/24percolation/images/percolates-yes.png\" width=\"300\"/>\n",
    "<img src=\"https://introcs.cs.princeton.edu/python/24percolation/images/percolates-no.png\" width=\"300\"/>\n",
    "</div>\n",
    "\n",
    "***"
   ]
  },
  {
   "cell_type": "markdown",
   "id": "0db956db-f9e2-43b9-a18a-eb954688f8d7",
   "metadata": {},
   "source": [
    "## Percolación vertical\n",
    "Dada una matriz que representa los sitios disponibles, debemos determinar si este sistema percola. Empezando com percolación vertical siendo este el más simple ya que solo buscará percolación directamente en el prano vertical\n",
    "<br>\n",
    "<br>\n",
    "<div>\n",
    "<img src=\"https://introcs.cs.princeton.edu/python/24percolation/images/percolates-vertically-yes.png\" width=\"300\"/>\n",
    "<img src=\"https://introcs.cs.princeton.edu/python/24percolation/images/percolates-vertically-no.png\" width=\"300\"/>\n",
    "</div>\n",
    "\n",
    "***"
   ]
  },
  {
   "cell_type": "code",
   "execution_count": null,
   "id": "fe5db315-4bda-4ba4-98fd-397aa47ac229",
   "metadata": {},
   "outputs": [],
   "source": []
  },
  {
   "cell_type": "code",
   "execution_count": 7,
   "id": "f21bc1e8-a2fb-4ef2-8f3b-44aaa2b9d2b8",
   "metadata": {},
   "outputs": [],
   "source": [
    "import numpy as np"
   ]
  },
  {
   "cell_type": "code",
   "execution_count": 146,
   "id": "e90f00c9-8838-4e58-ba8f-f93e69e08962",
   "metadata": {},
   "outputs": [],
   "source": [
    "def _flow(isOpen, isFull, i, j):\n",
    "    n = len(isFull)\n",
    "    if (i < 0) or (i >= n):\n",
    "        return\n",
    "    if (j < 0) or (j >= n):\n",
    "        return\n",
    "    if (isOpen[i][j] == 0):\n",
    "        return\n",
    "    if (isFull[i][j] == 1):\n",
    "        return\n",
    "    isFull[i][j] = 1\n",
    "    _flow(isOpen, isFull, i+1, j  )  # Down.\n",
    "    _flow(isOpen, isFull, i  , j+1)  # Right.\n",
    "    _flow(isOpen, isFull, i  , j-1)  # Left.\n",
    "    _flow(isOpen, isFull, i-1, j  )  # Up."
   ]
  },
  {
   "cell_type": "code",
   "execution_count": 143,
   "id": "16e7899f-663e-478f-8974-2e231fbc69bd",
   "metadata": {},
   "outputs": [],
   "source": [
    "def flow(isOpen):\n",
    "    n = len(isOpen)\n",
    "    isFull = np.zeros((n,n),dtype=int)\n",
    "    for j in range(n):\n",
    "        _flow(isOpen, isFull, 0, j)\n",
    "    print(isFull)\n",
    "    return isFull"
   ]
  },
  {
   "cell_type": "code",
   "execution_count": 138,
   "id": "b125062d-6f38-4459-bd07-737cce1740e2",
   "metadata": {},
   "outputs": [],
   "source": [
    "def percolates(isOpen):\n",
    "    \n",
    "    # Compute the full sites of the system.\n",
    "    isFull = flow(isOpen)\n",
    "    \n",
    "    \n",
    "    # If any site in the bottom row is full, then the system\n",
    "    # percolates.\n",
    "    n = len(isFull)\n",
    "    for j in range(n):\n",
    "        if (isFull[n-1][j]):\n",
    "            return True\n",
    "    return False\n"
   ]
  },
  {
   "cell_type": "code",
   "execution_count": 112,
   "id": "f62a326d-4e27-49c6-9ec5-406b2a1082da",
   "metadata": {},
   "outputs": [],
   "source": [
    "def armarArray(n, probabilidadDisponible):\n",
    "    array = np.random.binomial(1, probabilidadDisponible, size=(n,n))\n",
    "    return array"
   ]
  },
  {
   "cell_type": "code",
   "execution_count": 113,
   "id": "8970aed6-fc1d-4215-b395-70c8539b895c",
   "metadata": {},
   "outputs": [],
   "source": [
    "## recibe n y m que son valores para las dimensiones de la matriz\n",
    "def main(n, probabilidadDisponible):\n",
    "    array = armarArray(n, probabilidadDisponible)\n",
    "    print(array)\n",
    "    print(percolates(array))\n",
    "    \n",
    "        "
   ]
  },
  {
   "cell_type": "code",
   "execution_count": 156,
   "id": "b2f8eb6f-4ee6-4dff-9cfc-4c4d02b0ce5b",
   "metadata": {},
   "outputs": [
    {
     "name": "stdout",
     "output_type": "stream",
     "text": [
      "[[0 1 1 0 0]\n",
      " [1 0 1 1 1]\n",
      " [0 0 1 0 0]\n",
      " [0 0 1 1 0]\n",
      " [0 1 1 0 1]]\n",
      "[[0 1 1 0 0]\n",
      " [0 0 1 1 1]\n",
      " [0 0 1 0 0]\n",
      " [0 0 1 1 0]\n",
      " [0 1 1 0 0]]\n",
      "True\n"
     ]
    }
   ],
   "source": [
    "## Ejecuta el metodo main que toma las dimensiones n*n de la matriz \n",
    "## y un numero float entre 0 y 1 el cual representara la \n",
    "## probabilidad de asumir 1 o disponible\n",
    "main(5, 0.5)"
   ]
  },
  {
   "cell_type": "code",
   "execution_count": null,
   "id": "5a3245bc-1ff0-47f3-a635-7abce13d8dc1",
   "metadata": {},
   "outputs": [],
   "source": []
  }
 ],
 "metadata": {
  "kernelspec": {
   "display_name": "Python 3 (ipykernel)",
   "language": "python",
   "name": "python3"
  },
  "language_info": {
   "codemirror_mode": {
    "name": "ipython",
    "version": 3
   },
   "file_extension": ".py",
   "mimetype": "text/x-python",
   "name": "python",
   "nbconvert_exporter": "python",
   "pygments_lexer": "ipython3",
   "version": "3.9.16"
  }
 },
 "nbformat": 4,
 "nbformat_minor": 5
}
