{
 "cells": [
  {
   "cell_type": "code",
   "execution_count": 1,
   "metadata": {},
   "outputs": [],
   "source": [
    "%matplotlib inline\n",
    "import matplotlib.pyplot as pl\n",
    "import numpy as np\n",
    "from collections import Counter"
   ]
  },
  {
   "cell_type": "code",
   "execution_count": 2,
   "metadata": {},
   "outputs": [],
   "source": [
    "# this is a function finding the whole cluster given a single starting pixel\n",
    "def fill4(x, y, n_clusters, N, A, cluster, sizes):\n",
    "\n",
    "    stack = [(x,y)]\n",
    "\n",
    "    while len(stack) > 0:\n",
    "        x, y = stack.pop(-1)\n",
    "\n",
    "        if A[x,y] == 1 and cluster[x,y] == -1:\n",
    "            cluster[x,y] = n_clusters\n",
    "            sizes[n_clusters] += 1\n",
    "\n",
    "            if y+1 < N:\n",
    "                stack.append((x,y+1))\n",
    "            if y-1 >= 0:\n",
    "                stack.append((x,y-1))\n",
    "\n",
    "            if x+1 < N:\n",
    "                stack.append((x+1,y))\n",
    "            if x-1 >= 0:\n",
    "                stack.append((x-1,y))"
   ]
  },
  {
   "cell_type": "code",
   "execution_count": 22,
   "metadata": {},
   "outputs": [],
   "source": [
    "# model parameters\n",
    "p = 0.5\n",
    "N = 10\n",
    "\n",
    "# site occupation matrix\n",
    "A = np.random.binomial(1,p,size=(N,N))\n",
    "\n",
    "# get occupied site coordinates\n",
    "nnz = A.nonzero()\n",
    "\n",
    "# currently there's no clusters\n",
    "n_clusters = 0\n",
    "\n",
    "# a matrix containing the cluster id of each site.\n",
    "# a -1 indicates that the site does not belong to a cluster\n",
    "cluster = np.zeros((N,N),dtype=int) - 1\n",
    "sizes = Counter()"
   ]
  },
  {
   "cell_type": "code",
   "execution_count": 12,
   "metadata": {},
   "outputs": [],
   "source": [
    "# iterate through the coordinates of the occupied sites\n",
    "for i, j in zip(*nnz):\n",
    "\n",
    "    # if the site does not yet belong to a cluster\n",
    "    if cluster[i,j] < 0:\n",
    "\n",
    "        # find the whole cluster this site belongs to\n",
    "        fill4(i,j, n_clusters, N, A, cluster, sizes)\n",
    "\n",
    "        # increase the total number of clusters\n",
    "        n_clusters += 1\n"
   ]
  },
  {
   "cell_type": "code",
   "execution_count": 13,
   "metadata": {},
   "outputs": [],
   "source": [
    "# remap the cluster ids to some random id such that the colors in the end product are \n",
    "# mixed up\n",
    "new_mapping = np.arange(0,n_clusters)\n",
    "np.random.shuffle(new_mapping)\n",
    "cluster = np.array([new_mapping[v] if not v == -1 else np.nan for v in cluster.flat]).reshape(N,N)\n",
    "\n",
    "# count the number of clusters of size m\n",
    "all_sizes = Counter(list(sizes.values()))\n",
    "x = np.arange(1,N**2+1)\n",
    "y = [all_sizes[s] for s in x]\n",
    "\n",
    "# get size of largest cluster\n",
    "max_size = max(all_sizes.keys())\n"
   ]
  },
  {
   "cell_type": "code",
   "execution_count": 21,
   "metadata": {},
   "outputs": [
    {
     "name": "stderr",
     "output_type": "stream",
     "text": [
      "C:\\Users\\DENNI\\.conda\\envs\\gpu\\lib\\site-packages\\numpy\\lib\\histograms.py:906: RuntimeWarning: invalid value encountered in divide\n",
      "  return n/db/n.sum(), bin_edges\n"
     ]
    },
    {
     "data": {
      "image/png": "[encoded data removed]",
      "text/plain": [
       "<Figure size 600x300 with 2 Axes>"
      ]
     },
     "metadata": {},
     "output_type": "display_data"
    }
   ],
   "source": [
    "# create new figures\n",
    "fig, ax = pl.subplots(1,2,figsize=(6,3))\n",
    "\n",
    "ax[0].imshow(cluster,cmap='nipy_spectral')\n",
    "\n",
    "# create a histogram with first linear, then logarithmic bin sizes\n",
    "bin_edges = np.arange(1,30).tolist()+np.logspace(1.5,np.log10(N**2),30).tolist()\n",
    "\n",
    "# plot the histogram\n",
    "ax[1].hist(list(sizes.values()),bins=bin_edges,density=True,histtype='step')\n",
    "# compare to expectation\n",
    "ax[1].plot(x[x<1000],x[x<1000]**(-187/91)/sum(x**(-187/91)),'-')\n",
    "\n",
    "ax[1].set_xscale('log')\n",
    "ax[1].set_yscale('log')\n",
    "\n",
    "ax[1].set_xlabel('cluster size')\n",
    "ax[1].set_ylabel('probability density')\n",
    "\n",
    "fig.tight_layout()\n",
    "fig.savefig(\"critical_point.png\",dpi=300)"
   ]
  },
  {
   "cell_type": "code",
   "execution_count": null,
   "metadata": {},
   "outputs": [],
   "source": []
  }
 ],
 "metadata": {
  "kernelspec": {
   "display_name": "Python 3 (ipykernel)",
   "language": "python",
   "name": "python3"
  },
  "language_info": {
   "codemirror_mode": {
    "name": "ipython",
    "version": 3
   },
   "file_extension": ".py",
   "mimetype": "text/x-python",
   "name": "python",
   "nbconvert_exporter": "python",
   "pygments_lexer": "ipython3",
   "version": "3.9.16"
  }
 },
 "nbformat": 4,
 "nbformat_minor": 4
}
